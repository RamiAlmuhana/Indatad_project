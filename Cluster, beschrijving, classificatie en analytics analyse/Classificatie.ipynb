{
  "cells": [
    {
      "cell_type": "markdown",
      "id": "8f9329c1",
      "metadata": {
        "id": "8f9329c1"
      },
      "source": [
        "# **Welkom bij mijn Classificatie analyse**"
      ]
    },
    {
      "metadata": {
        "id": "ee207c32f09939a8"
      },
      "cell_type": "markdown",
      "source": [
        "# **Bibliotheken Importeren**\n",
        "\n",
        "In deze stap importeer ik alle benodigde bibliotheken die gebruikt zullen worden tijdens de analyse."
      ],
      "id": "ee207c32f09939a8"
    },
    {
      "cell_type": "code",
      "id": "2f6ee895",
      "metadata": {
        "ExecuteTime": {
          "end_time": "2024-10-21T18:48:28.264527Z",
          "start_time": "2024-10-21T18:48:28.261365Z"
        },
        "id": "2f6ee895"
      },
      "source": [
        "import numpy as np\n",
        "\n",
        "from sklearn.feature_extraction.text import CountVectorizer\n",
        "\n",
        "from sklearn.model_selection import train_test_split\n",
        "\n",
        "from sklearn.naive_bayes import MultinomialNB\n",
        "\n",
        "from sklearn.metrics import accuracy_score\n",
        "\n",
        "from sklearn.metrics import confusion_matrix\n",
        "\n",
        "import pandas as pd\n",
        "\n",
        "import joblib\n",
        "\n",
        "from sklearn.metrics import precision_score\n",
        "\n",
        "from sklearn.metrics import recall_score"
      ],
      "outputs": [],
      "execution_count": null
    },
    {
      "metadata": {
        "id": "4a91f6e61ed778f2"
      },
      "cell_type": "markdown",
      "source": [
        "# **Dataset laden**\n",
        "\n",
        "Ik heb de dataset ingeladen met behulp van pandas en deze in een tabel gezet (DataFrame), zodat ik er makkelijk naar kan kijken en ermee kan werken."
      ],
      "id": "4a91f6e61ed778f2"
    },
    {
      "cell_type": "code",
      "id": "8f4c925b",
      "metadata": {
        "ExecuteTime": {
          "end_time": "2024-10-21T18:48:28.492034Z",
          "start_time": "2024-10-21T18:48:28.301658Z"
        },
        "id": "8f4c925b"
      },
      "source": [
        "df = pd.read_csv('studentset.csv')"
      ],
      "outputs": [],
      "execution_count": null
    },
    {
      "cell_type": "markdown",
      "source": [
        "Ik haal de transcripties en labels uit de DataFrame\n"
      ],
      "metadata": {
        "id": "yt1jdnscfWKc"
      },
      "id": "yt1jdnscfWKc"
    },
    {
      "metadata": {
        "ExecuteTime": {
          "end_time": "2024-10-21T18:48:28.499546Z",
          "start_time": "2024-10-21T18:48:28.493041Z"
        },
        "id": "8b92cb5d8fd45ca4"
      },
      "cell_type": "code",
      "source": [
        "transcript = df['transcript']\n",
        "label = df['label']"
      ],
      "id": "8b92cb5d8fd45ca4",
      "outputs": [],
      "execution_count": null
    },
    {
      "cell_type": "markdown",
      "source": [
        "Ik splits de data in een trainings- en testset (80% voor training, 20% voor testen)\n"
      ],
      "metadata": {
        "id": "e4-LjiOtgA53"
      },
      "id": "e4-LjiOtgA53"
    },
    {
      "metadata": {
        "ExecuteTime": {
          "end_time": "2024-10-21T18:48:28.517083Z",
          "start_time": "2024-10-21T18:48:28.500060Z"
        },
        "colab": {
          "base_uri": "https://localhost:8080/"
        },
        "id": "1e705c2483f3ff24",
        "outputId": "f9ed4403-ca54-4114-e869-f81bba1ba02a"
      },
      "cell_type": "code",
      "source": [
        "# Splits de data in train en test sets (80% training, 20% testing)\n",
        "transcript_train, transcript_test, label_train, label_test = train_test_split(transcript, label, test_size=0.2, random_state=42)\n",
        "\n",
        "# Controleer de vormen van de gesplitste data\n",
        "print(transcript_train.shape, transcript_test.shape, label_train.shape, label_test.shape)"
      ],
      "id": "1e705c2483f3ff24",
      "outputs": [
        {
          "output_type": "stream",
          "name": "stdout",
          "text": [
            "(1480,) (370,) (1480,) (370,)\n"
          ]
        }
      ],
      "execution_count": null
    },
    {
      "metadata": {
        "id": "fc5b611d"
      },
      "cell_type": "markdown",
      "source": [
        "# **Bag of words**\n",
        "Ik maak een NLP-model (Bag of Words) aan, waarbij ik veelvoorkomende woorden verwijder ik negeer woorden die in minder dan 200 documenten voorkomen (min_df=200) en woorden die in meer dan 95% van de documenten voorkomen (max_df=0.95)\n",
        "Daarnaast verwijder ik Engelse stopwoorden (stop_words='english')"
      ],
      "id": "fc5b611d"
    },
    {
      "cell_type": "code",
      "id": "5243ea92",
      "metadata": {
        "ExecuteTime": {
          "end_time": "2024-10-21T18:48:30.300684Z",
          "start_time": "2024-10-21T18:48:28.518088Z"
        },
        "id": "5243ea92"
      },
      "source": [
        "Nlp_model = CountVectorizer(stop_words='english',min_df=188,max_df=0.95,binary=True)\n",
        "\n",
        "transcript_train_bow = Nlp_model.fit_transform(transcript_train)\n",
        "transcript_test_bow = Nlp_model.transform(transcript_test)"
      ],
      "outputs": [],
      "execution_count": null
    },
    {
      "cell_type": "markdown",
      "source": [
        "Ik pas het NLP-model toe op de trainingsset om een Bag of Words-model te maken (woordenfrequentie-matrix).\n",
        "Ik transformeer ook de testset met hetzelfde Bag of Words-model\n",
        "\n"
      ],
      "metadata": {
        "id": "yDR4q67EgohG"
      },
      "id": "yDR4q67EgohG"
    },
    {
      "cell_type": "code",
      "id": "c6b42b37",
      "metadata": {
        "ExecuteTime": {
          "end_time": "2024-10-21T18:48:30.304175Z",
          "start_time": "2024-10-21T18:48:30.301689Z"
        },
        "colab": {
          "base_uri": "https://localhost:8080/"
        },
        "id": "c6b42b37",
        "outputId": "525216f5-b2d2-40d3-a521-e87413b05c6a"
      },
      "source": [
        "print(transcript_train_bow.shape)\n",
        "print(transcript_test_bow.shape)"
      ],
      "outputs": [
        {
          "output_type": "stream",
          "name": "stdout",
          "text": [
            "(1480, 691)\n",
            "(370, 691)\n"
          ]
        }
      ],
      "execution_count": null
    },
    {
      "cell_type": "markdown",
      "id": "4fb9d2be",
      "metadata": {
        "id": "4fb9d2be"
      },
      "source": [
        "# **Naive Bayes classifier**\n",
        "Hier ga ik het Bag of Words model in de Naive Bayes classifier stoppen (de train data). Daarna doe ik voorspellingen op de test data."
      ]
    },
    {
      "cell_type": "code",
      "id": "d9a42bf2",
      "metadata": {
        "ExecuteTime": {
          "end_time": "2024-10-21T18:48:30.323143Z",
          "start_time": "2024-10-21T18:48:30.305179Z"
        },
        "id": "d9a42bf2"
      },
      "source": [
        "classificatie_model = MultinomialNB()\n",
        "\n",
        "classificatie_model.fit(transcript_train_bow.toarray(), label_train)\n",
        "\n",
        "predicted = classificatie_model.predict(transcript_test_bow.toarray())"
      ],
      "outputs": [],
      "execution_count": null
    },
    {
      "cell_type": "markdown",
      "id": "aa9dda18",
      "metadata": {
        "id": "aa9dda18"
      },
      "source": [
        "# **Validatie**\n",
        "Ik bereken de nauwkeurigheidsscore van het model op de testset\n"
      ]
    },
    {
      "cell_type": "code",
      "id": "0cc537ca",
      "metadata": {
        "ExecuteTime": {
          "end_time": "2024-10-21T18:48:30.336227Z",
          "start_time": "2024-10-21T18:48:30.327954Z"
        },
        "colab": {
          "base_uri": "https://localhost:8080/"
        },
        "id": "0cc537ca",
        "outputId": "3efd6dce-58d8-4e01-bfc7-2ee3eb1f4754"
      },
      "source": [
        "accuracy_score(label_test, predicted)"
      ],
      "outputs": [
        {
          "output_type": "execute_result",
          "data": {
            "text/plain": [
              "0.6351351351351351"
            ]
          },
          "metadata": {},
          "execution_count": 47
        }
      ],
      "execution_count": null
    },
    {
      "cell_type": "markdown",
      "source": [
        "Hieronder maak ik een verwarringsmatrix om het aantal correcte en incorrecte voorspellingen te bekijken\n"
      ],
      "metadata": {
        "id": "-W15W7aKhGQn"
      },
      "id": "-W15W7aKhGQn"
    },
    {
      "metadata": {
        "ExecuteTime": {
          "end_time": "2024-10-21T18:48:30.343533Z",
          "start_time": "2024-10-21T18:48:30.336227Z"
        },
        "colab": {
          "base_uri": "https://localhost:8080/"
        },
        "id": "6b2bfffb4ce04448",
        "outputId": "90ff6c1f-1e0a-4034-9c07-53af6418141d"
      },
      "cell_type": "code",
      "source": [
        "cm = confusion_matrix(label_test, predicted)\n",
        "print(cm)"
      ],
      "id": "6b2bfffb4ce04448",
      "outputs": [
        {
          "output_type": "stream",
          "name": "stdout",
          "text": [
            "[[108  78]\n",
            " [ 57 127]]\n"
          ]
        }
      ],
      "execution_count": null
    },
    {
      "cell_type": "markdown",
      "source": [
        "Hieronder bereken ik en print de precisiescore (het percentage juiste positieve voorspellingen)\n"
      ],
      "metadata": {
        "id": "h5dq9JSohKDV"
      },
      "id": "h5dq9JSohKDV"
    },
    {
      "metadata": {
        "ExecuteTime": {
          "end_time": "2024-10-21T18:48:30.351606Z",
          "start_time": "2024-10-21T18:48:30.344538Z"
        },
        "colab": {
          "base_uri": "https://localhost:8080/"
        },
        "id": "fc7ed4c3de12e394",
        "outputId": "19a6d8aa-f3bd-4b97-eb29-9cd31ebbe2b2"
      },
      "cell_type": "code",
      "source": [
        "precision = precision_score(label_test, predicted)\n",
        "print(precision)"
      ],
      "id": "fc7ed4c3de12e394",
      "outputs": [
        {
          "output_type": "stream",
          "name": "stdout",
          "text": [
            "0.6195121951219512\n"
          ]
        }
      ],
      "execution_count": null
    },
    {
      "cell_type": "markdown",
      "source": [
        "Hieronder bereken ik en print de recall-score (hoeveel van de positieve gevallen correct werden voorspeld)"
      ],
      "metadata": {
        "id": "Cju_aUQihQAA"
      },
      "id": "Cju_aUQihQAA"
    },
    {
      "metadata": {
        "ExecuteTime": {
          "end_time": "2024-10-21T18:48:30.360619Z",
          "start_time": "2024-10-21T18:48:30.352610Z"
        },
        "colab": {
          "base_uri": "https://localhost:8080/"
        },
        "id": "cb72464eccb9dc7e",
        "outputId": "ef35a621-33ed-468e-cbd0-6c44592f9204"
      },
      "cell_type": "code",
      "source": [
        "recall = recall_score(label_test, predicted)\n",
        "print(recall)"
      ],
      "id": "cb72464eccb9dc7e",
      "outputs": [
        {
          "output_type": "stream",
          "name": "stdout",
          "text": [
            "0.6902173913043478\n"
          ]
        }
      ],
      "execution_count": null
    },
    {
      "cell_type": "markdown",
      "id": "3e855b10",
      "metadata": {
        "id": "3e855b10"
      },
      "source": [
        "Hieronder print ik de verwarringsmatrix opnieuw voor extra controle\n"
      ]
    },
    {
      "cell_type": "code",
      "id": "27f217ad",
      "metadata": {
        "ExecuteTime": {
          "end_time": "2024-10-21T18:48:30.368240Z",
          "start_time": "2024-10-21T18:48:30.361624Z"
        },
        "colab": {
          "base_uri": "https://localhost:8080/"
        },
        "id": "27f217ad",
        "outputId": "e376f824-2428-4d39-c7d5-d0b4754ecccf"
      },
      "source": [
        "cm = confusion_matrix(label_test, predicted)\n",
        "print(cm)"
      ],
      "outputs": [
        {
          "output_type": "stream",
          "name": "stdout",
          "text": [
            "[[108  78]\n",
            " [ 57 127]]\n"
          ]
        }
      ],
      "execution_count": null
    },
    {
      "metadata": {
        "id": "77650fc82e8d7bec"
      },
      "cell_type": "markdown",
      "source": [
        "# **Modellen opslaan**\n",
        "Hieronder worden de 2 modellen gedownload met behulp van joblib"
      ],
      "id": "77650fc82e8d7bec"
    },
    {
      "cell_type": "code",
      "id": "3906ec59-d106-4baa-87b9-9d1902eda51c",
      "metadata": {
        "ExecuteTime": {
          "end_time": "2024-10-21T18:48:30.378214Z",
          "start_time": "2024-10-21T18:48:30.368240Z"
        },
        "colab": {
          "base_uri": "https://localhost:8080/"
        },
        "id": "3906ec59-d106-4baa-87b9-9d1902eda51c",
        "outputId": "b833ba7f-bba5-4b23-d203-ac0af26c8926"
      },
      "source": [
        "joblib.dump(Nlp_model, 'Nlp_model.pkl')\n",
        "\n",
        "joblib.dump(classificatie_model, 'classificatie_model.pkl')"
      ],
      "outputs": [
        {
          "output_type": "execute_result",
          "data": {
            "text/plain": [
              "['classificatie_model.pkl']"
            ]
          },
          "metadata": {},
          "execution_count": 52
        }
      ],
      "execution_count": null
    }
  ],
  "metadata": {
    "kernelspec": {
      "display_name": "Python 3 (ipykernel)",
      "language": "python",
      "name": "python3"
    },
    "language_info": {
      "codemirror_mode": {
        "name": "ipython",
        "version": 3
      },
      "file_extension": ".py",
      "mimetype": "text/x-python",
      "name": "python",
      "nbconvert_exporter": "python",
      "pygments_lexer": "ipython3",
      "version": "3.11.9"
    },
    "colab": {
      "provenance": []
    }
  },
  "nbformat": 4,
  "nbformat_minor": 5
}